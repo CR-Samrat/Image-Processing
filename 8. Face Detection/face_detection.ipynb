{
 "cells": [
  {
   "cell_type": "code",
   "execution_count": 1,
   "metadata": {},
   "outputs": [],
   "source": [
    "import cv2 as cv"
   ]
  },
  {
   "cell_type": "code",
   "execution_count": 2,
   "metadata": {},
   "outputs": [],
   "source": [
    "classifier = cv.CascadeClassifier('./haarcascade_frontalface_default.xml')"
   ]
  },
  {
   "cell_type": "markdown",
   "metadata": {},
   "source": [
    "#### Face Detection"
   ]
  },
  {
   "cell_type": "code",
   "execution_count": 3,
   "metadata": {},
   "outputs": [],
   "source": [
    "cam = cv.VideoCapture(0)\n",
    "\n",
    "while True:\n",
    "    _,img = cam.read()\n",
    "    img = cv.flip(img,1)\n",
    "\n",
    "    # face detection\n",
    "    face = classifier.detectMultiScale(img, 1.1, 5)\n",
    "    try:\n",
    "        for x,y,width,height in face:\n",
    "            cv.rectangle(img,(x,y),(x+width, y+height),(0,180,25),2)\n",
    "    except:\n",
    "        pass\n",
    "\n",
    "    cv.imshow(\"Frame\",img)\n",
    "\n",
    "    if cv.waitKey(10)==27:\n",
    "        cam.release()\n",
    "        cv.destroyAllWindows()\n",
    "        break"
   ]
  },
  {
   "cell_type": "markdown",
   "metadata": {},
   "source": [
    "#### Background Blur, Focus on face"
   ]
  },
  {
   "cell_type": "code",
   "execution_count": 4,
   "metadata": {},
   "outputs": [],
   "source": [
    "cam = cv.VideoCapture(0)\n",
    "\n",
    "while True:\n",
    "    _,img = cam.read()\n",
    "    img = cv.flip(img,1)\n",
    "\n",
    "    # face detection\n",
    "    face = classifier.detectMultiScale(img, 1.1, 5)\n",
    "    try:\n",
    "        for x,y,width,height in face:\n",
    "            # cv.rectangle(img,(x,y),(x+width, y+height),(0,180,25),2)\n",
    "            face_img = img[y:y+height, x:x+width]\n",
    "            img = cv.blur(img,(8,8))\n",
    "            img[y:y+height, x:x+width] = face_img\n",
    "    except:\n",
    "        pass\n",
    "\n",
    "    cv.imshow(\"Frame\",img)\n",
    "\n",
    "    if cv.waitKey(10)==27:\n",
    "        cam.release()\n",
    "        cv.destroyAllWindows()\n",
    "        break"
   ]
  }
 ],
 "metadata": {
  "kernelspec": {
   "display_name": "Python 3",
   "language": "python",
   "name": "python3"
  },
  "language_info": {
   "codemirror_mode": {
    "name": "ipython",
    "version": 3
   },
   "file_extension": ".py",
   "mimetype": "text/x-python",
   "name": "python",
   "nbconvert_exporter": "python",
   "pygments_lexer": "ipython3",
   "version": "3.11.3"
  }
 },
 "nbformat": 4,
 "nbformat_minor": 2
}
