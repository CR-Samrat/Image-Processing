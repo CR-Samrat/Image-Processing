{
 "cells": [
  {
   "cell_type": "code",
   "execution_count": 2,
   "metadata": {},
   "outputs": [],
   "source": [
    "import cv2 as cv\n",
    "import os"
   ]
  },
  {
   "cell_type": "code",
   "execution_count": 3,
   "metadata": {},
   "outputs": [],
   "source": [
    "classifier = cv.CascadeClassifier('./haarcascade_frontalface_default.xml')"
   ]
  },
  {
   "cell_type": "code",
   "execution_count": 4,
   "metadata": {},
   "outputs": [],
   "source": [
    "def find_index():\n",
    "    path = os.listdir('./People')\n",
    "    if len(path) == 0:\n",
    "        idx = 1\n",
    "    else:\n",
    "        idx = path[-1].split('_')[1][0]\n",
    "        idx = int(idx) + 1\n",
    "    \n",
    "    return idx"
   ]
  },
  {
   "cell_type": "markdown",
   "metadata": {},
   "source": [
    "#### Detect faces from image"
   ]
  },
  {
   "cell_type": "code",
   "execution_count": 5,
   "metadata": {},
   "outputs": [],
   "source": [
    "test_img = cv.imread('./test_img.jpg')\n",
    "idx = None\n",
    "\n",
    "try:\n",
    "    test_img = cv.blur(test_img,(4,4))\n",
    "    faces = classifier.detectMultiScale(test_img, 1.1, 5)\n",
    "    images = []\n",
    "\n",
    "    # detecting faces\n",
    "    for x,y,w,h in faces:\n",
    "        img = test_img[y:y+h, x:x+w]\n",
    "        images.append(img)\n",
    "        \n",
    "    # store the images\n",
    "    idx = find_index()\n",
    "\n",
    "    for img in images:\n",
    "        cv.imwrite(f'./People/face_{idx}.png',img)\n",
    "        idx += 1\n",
    "except:\n",
    "    pass"
   ]
  },
  {
   "cell_type": "markdown",
   "metadata": {},
   "source": [
    "#### Detect faces from live video"
   ]
  },
  {
   "cell_type": "code",
   "execution_count": 11,
   "metadata": {},
   "outputs": [],
   "source": [
    "cam = cv.VideoCapture(0)\n",
    "captured = False\n",
    "\n",
    "while True:\n",
    "    _,img = cam.read()\n",
    "    img = cv.flip(img,1)\n",
    "\n",
    "    try:\n",
    "        faces = classifier.detectMultiScale(img, 1.1, 5)\n",
    "        images = []\n",
    "\n",
    "        for x,y,w,h in faces:\n",
    "            cv.rectangle(img, (x,y), (x+w, y+h),(0,180,0),2)\n",
    "            face = img[y:y+h, x:x+w]\n",
    "            images.append(face)\n",
    "        \n",
    "        if len(images)>0 and not captured:\n",
    "            for face in images:\n",
    "                idx = find_index()\n",
    "                cv.imwrite(f'./People/face_{idx}.png',face)\n",
    "                idx += 1\n",
    "            captured = True\n",
    "\n",
    "    except:\n",
    "        pass\n",
    "\n",
    "    cv.imshow(\"Frame\",img)\n",
    "\n",
    "    if cv.waitKey(10) == 27:\n",
    "        cam.release()\n",
    "        cv.destroyAllWindows()\n",
    "        break"
   ]
  }
 ],
 "metadata": {
  "kernelspec": {
   "display_name": "Python 3",
   "language": "python",
   "name": "python3"
  },
  "language_info": {
   "codemirror_mode": {
    "name": "ipython",
    "version": 3
   },
   "file_extension": ".py",
   "mimetype": "text/x-python",
   "name": "python",
   "nbconvert_exporter": "python",
   "pygments_lexer": "ipython3",
   "version": "3.11.3"
  }
 },
 "nbformat": 4,
 "nbformat_minor": 2
}
