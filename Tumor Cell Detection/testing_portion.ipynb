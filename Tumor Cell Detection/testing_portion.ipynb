{
 "cells": [
  {
   "cell_type": "code",
   "execution_count": 1,
   "metadata": {},
   "outputs": [],
   "source": [
    "import pickle\n",
    "import os\n",
    "from PIL import Image\n",
    "import numpy as np\n",
    "import cv2 as cv\n",
    "from tqdm import tqdm"
   ]
  },
  {
   "cell_type": "code",
   "execution_count": 2,
   "metadata": {},
   "outputs": [],
   "source": [
    "with open('tumor_detection_model.pkl','rb') as fb:\n",
    "    model = pickle.load(fb)"
   ]
  },
  {
   "cell_type": "code",
   "execution_count": 3,
   "metadata": {},
   "outputs": [],
   "source": [
    "x_input = []\n",
    "height = 120\n",
    "width = 120\n",
    "z = 3"
   ]
  },
  {
   "cell_type": "code",
   "execution_count": 4,
   "metadata": {},
   "outputs": [
    {
     "name": "stderr",
     "output_type": "stream",
     "text": [
      "100%|██████████| 40/40 [00:00<00:00, 476.20it/s]\n"
     ]
    }
   ],
   "source": [
    "brain_image = os.listdir('./Data/input')\n",
    "\n",
    "for i,each_image in enumerate(tqdm(brain_image)):\n",
    "    if each_image.split('.')[1] == 'png':\n",
    "        image = cv.imread('./Data/input/'+each_image)\n",
    "        image = Image.fromarray(image,'RGB')\n",
    "        image = image.resize((height, width))\n",
    "        \n",
    "        image = np.array(image)\n",
    "        x_input.append(image)"
   ]
  },
  {
   "cell_type": "code",
   "execution_count": 5,
   "metadata": {},
   "outputs": [
    {
     "data": {
      "text/plain": [
       "(40, 43200)"
      ]
     },
     "execution_count": 5,
     "metadata": {},
     "output_type": "execute_result"
    }
   ],
   "source": [
    "X_input = np.array(x_input)\n",
    "x = []\n",
    "for i in X_input:\n",
    "    # print(i.shape)\n",
    "    x.append(i.flatten())\n",
    "\n",
    "x = np.array(x)\n",
    "\n",
    "x.shape"
   ]
  },
  {
   "cell_type": "code",
   "execution_count": 6,
   "metadata": {},
   "outputs": [],
   "source": [
    "y_pred = model.predict(x)"
   ]
  },
  {
   "cell_type": "code",
   "execution_count": 7,
   "metadata": {},
   "outputs": [
    {
     "data": {
      "text/plain": [
       "(40, 43200)"
      ]
     },
     "execution_count": 7,
     "metadata": {},
     "output_type": "execute_result"
    }
   ],
   "source": [
    "y_pred.shape"
   ]
  },
  {
   "cell_type": "code",
   "execution_count": 8,
   "metadata": {},
   "outputs": [],
   "source": [
    "org_shape = (height,width,z)\n",
    "output = []\n",
    "\n",
    "for img in y_pred:\n",
    "    output_img = img.reshape(org_shape)\n",
    "    output.append(output_img)"
   ]
  },
  {
   "cell_type": "markdown",
   "metadata": {},
   "source": [
    "Storing the images"
   ]
  },
  {
   "cell_type": "code",
   "execution_count": 9,
   "metadata": {},
   "outputs": [],
   "source": [
    "name = \"Test_\"\n",
    "idx = 51\n",
    "\n",
    "for output_img in output:\n",
    "    cv.imwrite(f'./Data/Validation/{name+str(idx)}.png', output_img)\n",
    "    idx += 1"
   ]
  }
 ],
 "metadata": {
  "kernelspec": {
   "display_name": "Python 3",
   "language": "python",
   "name": "python3"
  },
  "language_info": {
   "codemirror_mode": {
    "name": "ipython",
    "version": 3
   },
   "file_extension": ".py",
   "mimetype": "text/x-python",
   "name": "python",
   "nbconvert_exporter": "python",
   "pygments_lexer": "ipython3",
   "version": "3.11.3"
  }
 },
 "nbformat": 4,
 "nbformat_minor": 2
}
