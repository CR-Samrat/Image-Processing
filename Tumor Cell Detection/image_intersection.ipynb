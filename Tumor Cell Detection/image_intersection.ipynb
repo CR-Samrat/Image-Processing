{
 "cells": [
  {
   "cell_type": "code",
   "execution_count": 75,
   "metadata": {},
   "outputs": [],
   "source": [
    "import cv2 as cv\n",
    "import pandas as pd\n",
    "from PIL import Image\n",
    "import numpy as np\n",
    "import os\n",
    "from tqdm import tqdm"
   ]
  },
  {
   "cell_type": "markdown",
   "metadata": {},
   "source": [
    "#### Parameters"
   ]
  },
  {
   "cell_type": "code",
   "execution_count": 58,
   "metadata": {},
   "outputs": [],
   "source": [
    "height = 120\n",
    "width = 120\n",
    "z = 3"
   ]
  },
  {
   "cell_type": "markdown",
   "metadata": {},
   "source": [
    "#### Source image"
   ]
  },
  {
   "cell_type": "code",
   "execution_count": 72,
   "metadata": {},
   "outputs": [
    {
     "data": {
      "text/plain": [
       "40"
      ]
     },
     "execution_count": 72,
     "metadata": {},
     "output_type": "execute_result"
    }
   ],
   "source": [
    "images = []\n",
    "\n",
    "path = os.listdir('./Data/input')\n",
    "\n",
    "for img_no, each_image in enumerate(path):\n",
    "    if each_image.split('.')[1]=='png':\n",
    "        image = cv.imread('./Data/input/'+each_image)\n",
    "        image = Image.fromarray(image,'RGB')\n",
    "        image = image.resize((height,width))\n",
    "        image = np.array(image)\n",
    "\n",
    "        images.append(image)\n",
    "\n",
    "len(images)"
   ]
  },
  {
   "cell_type": "markdown",
   "metadata": {},
   "source": [
    "#### Masked image"
   ]
  },
  {
   "cell_type": "code",
   "execution_count": 73,
   "metadata": {},
   "outputs": [
    {
     "data": {
      "text/plain": [
       "40"
      ]
     },
     "execution_count": 73,
     "metadata": {},
     "output_type": "execute_result"
    }
   ],
   "source": [
    "masks = []\n",
    "\n",
    "path = os.listdir('./Data/Validation')\n",
    "\n",
    "for img_no, each_image in enumerate(path):\n",
    "    if each_image.split('.')[1]=='png':\n",
    "        image = cv.imread('./Data/Validation/'+each_image)\n",
    "        image = Image.fromarray(image,'RGB')\n",
    "        image = image.resize((height,width))\n",
    "        image = np.array(image)\n",
    "\n",
    "        masks.append(image)\n",
    "\n",
    "len(images)"
   ]
  },
  {
   "cell_type": "markdown",
   "metadata": {},
   "source": [
    "#### Preprocessing the mask"
   ]
  },
  {
   "cell_type": "code",
   "execution_count": 76,
   "metadata": {},
   "outputs": [
    {
     "name": "stderr",
     "output_type": "stream",
     "text": [
      "100%|██████████| 40/40 [00:07<00:00,  5.16it/s]\n"
     ]
    }
   ],
   "source": [
    "for mask in tqdm(masks):\n",
    "    for i in range(len(mask)):\n",
    "        for j in range(len(mask[i])):\n",
    "            for k in range(len(mask[i][j])):\n",
    "                if mask[i][j][k] != 0:\n",
    "                    mask[i][j][k] = 255\n",
    "                else:\n",
    "                    mask[i][j][k] = 0"
   ]
  },
  {
   "cell_type": "markdown",
   "metadata": {},
   "source": [
    "#### Perform masking "
   ]
  },
  {
   "cell_type": "code",
   "execution_count": 66,
   "metadata": {},
   "outputs": [],
   "source": [
    "def apply_mask(image, mask):\n",
    "    result_img = cv.bitwise_and(image, mask)\n",
    "\n",
    "    return result_img"
   ]
  },
  {
   "cell_type": "code",
   "execution_count": 78,
   "metadata": {},
   "outputs": [
    {
     "name": "stderr",
     "output_type": "stream",
     "text": [
      "40it [00:00, 5002.00it/s]\n"
     ]
    }
   ],
   "source": [
    "output = []\n",
    "\n",
    "for img,mask in tqdm(zip(images,masks)):\n",
    "    result = apply_mask(img, mask)\n",
    "    output.append(result)"
   ]
  },
  {
   "cell_type": "markdown",
   "metadata": {},
   "source": [
    "#### Store the results"
   ]
  },
  {
   "cell_type": "code",
   "execution_count": 79,
   "metadata": {},
   "outputs": [],
   "source": [
    "name = \"intersect_\"\n",
    "idx = 51\n",
    "\n",
    "for output_img in output:\n",
    "    cv.imwrite(f'./Data/Intersected_img/{name+str(idx)}.png', output_img)\n",
    "    idx += 1"
   ]
  }
 ],
 "metadata": {
  "kernelspec": {
   "display_name": "Python 3",
   "language": "python",
   "name": "python3"
  },
  "language_info": {
   "codemirror_mode": {
    "name": "ipython",
    "version": 3
   },
   "file_extension": ".py",
   "mimetype": "text/x-python",
   "name": "python",
   "nbconvert_exporter": "python",
   "pygments_lexer": "ipython3",
   "version": "3.11.3"
  }
 },
 "nbformat": 4,
 "nbformat_minor": 2
}
