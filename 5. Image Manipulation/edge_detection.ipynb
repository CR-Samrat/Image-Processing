{
 "cells": [
  {
   "cell_type": "code",
   "execution_count": 1,
   "metadata": {},
   "outputs": [],
   "source": [
    "import cv2 as cv"
   ]
  },
  {
   "cell_type": "markdown",
   "metadata": {},
   "source": [
    "## Edge Detection"
   ]
  },
  {
   "cell_type": "code",
   "execution_count": 7,
   "metadata": {},
   "outputs": [],
   "source": [
    "cam = cv.VideoCapture(0)\n",
    "\n",
    "while True:\n",
    "    _,img = cam.read()\n",
    "    img = cv.flip(img, 1)\n",
    "\n",
    "    # edge detection\n",
    "    edge_1 = cv.Canny(img, 100,150)\n",
    "\n",
    "    # display image\n",
    "    cv.imshow(\"Frame\",img)\n",
    "    cv.imshow(\"Edge Detection - 1\",edge_1)\n",
    "\n",
    "    key = cv.waitKey(30)\n",
    "\n",
    "    if key == 27:\n",
    "        break\n",
    "\n",
    "cam.release()\n",
    "cv.destroyAllWindows()"
   ]
  },
  {
   "cell_type": "markdown",
   "metadata": {},
   "source": [
    "## Bluring image"
   ]
  },
  {
   "cell_type": "code",
   "execution_count": 8,
   "metadata": {},
   "outputs": [],
   "source": [
    "cam = cv.VideoCapture(0)\n",
    "\n",
    "while True:\n",
    "    _,img = cam.read()\n",
    "    img = cv.flip(img, 1)\n",
    "\n",
    "    # burring the image\n",
    "    blur_1 = cv.blur(img, (2,2))\n",
    "    blur_2 = cv.blur(img, (4,4))\n",
    "    blur_3 = cv.blur(img, (8,8))\n",
    "    blur_4 = cv.blur(img, (16,16))\n",
    "\n",
    "    # display image\n",
    "    cv.imshow(\"Frame\",img)\n",
    "    cv.imshow(\"Blur Image - 1\",blur_1)\n",
    "    cv.imshow(\"Blur Image - 2\",blur_2)\n",
    "    cv.imshow(\"Blur Image - 3\",blur_3)\n",
    "    cv.imshow(\"Blur Image - 4\",blur_4)\n",
    "\n",
    "    key = cv.waitKey(30)\n",
    "\n",
    "    if key == 27:\n",
    "        break\n",
    "\n",
    "cam.release()\n",
    "cv.destroyAllWindows()"
   ]
  },
  {
   "cell_type": "markdown",
   "metadata": {},
   "source": [
    "## Combination"
   ]
  },
  {
   "cell_type": "code",
   "execution_count": 14,
   "metadata": {},
   "outputs": [],
   "source": [
    "cam = cv.VideoCapture(0)\n",
    "\n",
    "while True:\n",
    "    _,img = cam.read()\n",
    "    img = cv.flip(img, 1)\n",
    "\n",
    "    # burring the image\n",
    "    blur_1 = cv.blur(img, (2,2))\n",
    "    edge_1 = cv.Canny(img, 50, 100)\n",
    "    final = cv.Canny(blur_1, 100, 200)\n",
    "\n",
    "    # display image\n",
    "    cv.imshow(\"Frame\",img)\n",
    "    cv.imshow('Edge Detection',edge_1)\n",
    "    cv.imshow('Edge Detection with blur',final)\n",
    "\n",
    "    key = cv.waitKey(30)\n",
    "\n",
    "    if key == 13:\n",
    "        cv.imwrite(\"Real.png\",img)\n",
    "        cv.imwrite('Edge_Detection.png',edge_1)\n",
    "        cv.imwrite('Edge_Detection_with_blur.png',final)\n",
    "\n",
    "    if key == 27:\n",
    "        break\n",
    "\n",
    "cam.release()\n",
    "cv.destroyAllWindows()"
   ]
  },
  {
   "cell_type": "markdown",
   "metadata": {},
   "source": [
    "## Image Resize"
   ]
  },
  {
   "cell_type": "code",
   "execution_count": 15,
   "metadata": {},
   "outputs": [],
   "source": [
    "cam = cv.VideoCapture(0)\n",
    "\n",
    "while True:\n",
    "    _,img = cam.read()\n",
    "    img = cv.flip(img, 1)\n",
    "\n",
    "    # resizing image\n",
    "    resize_1 = cv.resize(img, (400,400))                                   # incorrect aspect ration\n",
    "    resize_2 = cv.resize(img, (int(img.shape[1]/2), int(img.shape[0]/2)))  # correct aspect ration\n",
    "\n",
    "    # display image\n",
    "    cv.imshow(\"Frame\",img)\n",
    "    cv.imshow('Resize 1',resize_1)\n",
    "    cv.imshow('Resize 2',resize_2)\n",
    "\n",
    "    key = cv.waitKey(30)\n",
    "\n",
    "    if key == 13:\n",
    "        cv.imwrite('Resize_1.png',resize_1)\n",
    "        cv.imwrite('Resize_2.png',resize_2)\n",
    "\n",
    "    if key == 27:\n",
    "        break\n",
    "\n",
    "cam.release()\n",
    "cv.destroyAllWindows()"
   ]
  }
 ],
 "metadata": {
  "kernelspec": {
   "display_name": "Python 3",
   "language": "python",
   "name": "python3"
  },
  "language_info": {
   "codemirror_mode": {
    "name": "ipython",
    "version": 3
   },
   "file_extension": ".py",
   "mimetype": "text/x-python",
   "name": "python",
   "nbconvert_exporter": "python",
   "pygments_lexer": "ipython3",
   "version": "3.11.3"
  }
 },
 "nbformat": 4,
 "nbformat_minor": 2
}
