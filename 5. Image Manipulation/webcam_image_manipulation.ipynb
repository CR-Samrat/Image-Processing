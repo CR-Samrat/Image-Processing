{
 "cells": [
  {
   "cell_type": "code",
   "execution_count": 1,
   "metadata": {},
   "outputs": [],
   "source": [
    "import cv2 as cv"
   ]
  },
  {
   "cell_type": "markdown",
   "metadata": {},
   "source": [
    "## Creating rectangle"
   ]
  },
  {
   "cell_type": "code",
   "execution_count": 10,
   "metadata": {},
   "outputs": [],
   "source": [
    "cam = cv.VideoCapture(0)\n",
    "\n",
    "while True:\n",
    "    _,img = cam.read()\n",
    "    img = cv.flip(img, 1)\n",
    "    img = cv.rectangle(img, (200,100),(400,300),(0,255,0),2)\n",
    "    cv.imshow(\"Frame\",img)\n",
    "\n",
    "    key = cv.waitKey(30)\n",
    "\n",
    "    if key == 13:\n",
    "        cv.imwrite('rectangle_selfie.png',img)\n",
    "\n",
    "    if key == 27:\n",
    "        break\n",
    "\n",
    "cam.release()\n",
    "cv.destroyAllWindows()"
   ]
  },
  {
   "cell_type": "markdown",
   "metadata": {},
   "source": [
    "## Creating circle"
   ]
  },
  {
   "cell_type": "code",
   "execution_count": 22,
   "metadata": {},
   "outputs": [],
   "source": [
    "cam = cv.VideoCapture(0)\n",
    "\n",
    "while True:\n",
    "    _,img = cam.read()\n",
    "    img = cv.flip(img, 1)\n",
    "    img = cv.circle(img,(320,240),300,(255,255,0),200)\n",
    "    cv.imshow(\"Frame\",img)\n",
    "\n",
    "    key = cv.waitKey(30)\n",
    "\n",
    "    if key == 13:\n",
    "        cv.imwrite('circular_selfie.png',img)\n",
    "\n",
    "    if key == 27:\n",
    "        break\n",
    "\n",
    "cam.release()\n",
    "cv.destroyAllWindows()"
   ]
  },
  {
   "cell_type": "markdown",
   "metadata": {},
   "source": [
    "## Putting text"
   ]
  },
  {
   "cell_type": "code",
   "execution_count": 24,
   "metadata": {},
   "outputs": [],
   "source": [
    "cam = cv.VideoCapture(0)\n",
    "\n",
    "while True:\n",
    "    _,img = cam.read()\n",
    "    img = cv.flip(img, 1)\n",
    "    img = cv.putText(img,\"Subhadeep Sarkar\",(50,50),cv.FONT_HERSHEY_PLAIN,2, (255,0,125), 2)\n",
    "    cv.imshow(\"Frame\",img)\n",
    "\n",
    "    key = cv.waitKey(30)\n",
    "\n",
    "    if key == 13:\n",
    "        cv.imwrite('text_selfie.png',img)\n",
    "\n",
    "    if key == 27:\n",
    "        break\n",
    "\n",
    "cam.release()\n",
    "cv.destroyAllWindows()"
   ]
  }
 ],
 "metadata": {
  "kernelspec": {
   "display_name": "Python 3",
   "language": "python",
   "name": "python3"
  },
  "language_info": {
   "codemirror_mode": {
    "name": "ipython",
    "version": 3
   },
   "file_extension": ".py",
   "mimetype": "text/x-python",
   "name": "python",
   "nbconvert_exporter": "python",
   "pygments_lexer": "ipython3",
   "version": "3.11.3"
  }
 },
 "nbformat": 4,
 "nbformat_minor": 2
}
