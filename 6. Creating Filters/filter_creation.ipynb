{
 "cells": [
  {
   "cell_type": "code",
   "execution_count": 1,
   "metadata": {},
   "outputs": [],
   "source": [
    "import cv2 as cv\n",
    "import numpy as np"
   ]
  },
  {
   "cell_type": "markdown",
   "metadata": {},
   "source": [
    "## Increase brightness"
   ]
  },
  {
   "cell_type": "code",
   "execution_count": null,
   "metadata": {},
   "outputs": [],
   "source": [
    "cam = cv.VideoCapture(0)\n",
    "\n",
    "while True:\n",
    "    _,img = cam.read()\n",
    "    img = cv.flip(img, 1)\n",
    "\n",
    "    # adjust brightness\n",
    "    img_1 = img * 1.3\n",
    "    img_2 = img + 20.0\n",
    "\n",
    "    img_1[img_1>255] = 255\n",
    "    img_1 = img_1.astype(np.uint8)\n",
    "    img_2[img_2>255] = 255\n",
    "    img_2 = img_2.astype(np.uint8)\n",
    "\n",
    "    # display\n",
    "    cv.imshow(\"Frame\",img)\n",
    "    cv.imshow(\"Increase brightness 1\",img_1)\n",
    "    cv.imshow(\"Increase brightness 2\",img_2)\n",
    "\n",
    "    key = cv.waitKey(10)\n",
    "\n",
    "    if key == 27:\n",
    "        break\n",
    "\n",
    "cam.release()\n",
    "cv.destroyAllWindows()"
   ]
  },
  {
   "cell_type": "markdown",
   "metadata": {},
   "source": [
    "## Decrease brightness"
   ]
  },
  {
   "cell_type": "code",
   "execution_count": null,
   "metadata": {},
   "outputs": [],
   "source": [
    "cam = cv.VideoCapture(0)\n",
    "\n",
    "while True:\n",
    "    _,img = cam.read()\n",
    "    img = cv.flip(img, 1)\n",
    "\n",
    "    # adjust brightness\n",
    "    img_1 = img * 0.8\n",
    "    img_2 = img - 20.0\n",
    "\n",
    "    img_1[img_1<0] = 0\n",
    "    img_1 = img_1.astype(np.uint8)\n",
    "    img_2[img_2<0] = 0\n",
    "    img_2 = img_2.astype(np.uint8)\n",
    "\n",
    "    # display\n",
    "    cv.imshow(\"Frame\",img)\n",
    "    cv.imshow(\"Decrease brightness 1\",img_1)\n",
    "    cv.imshow(\"Decrease brightness 2\",img_2)\n",
    "\n",
    "    key = cv.waitKey(10)\n",
    "\n",
    "    if key == 27:\n",
    "        break\n",
    "\n",
    "cam.release()\n",
    "cv.destroyAllWindows()"
   ]
  },
  {
   "cell_type": "markdown",
   "metadata": {},
   "source": [
    "## Adding warmth and cool tone"
   ]
  },
  {
   "cell_type": "code",
   "execution_count": 2,
   "metadata": {},
   "outputs": [],
   "source": [
    "def create_background(color, height = 480, width = 640):\n",
    "    background = []\n",
    "\n",
    "    for i in range(height):\n",
    "        temp = []\n",
    "        for j in range(width):\n",
    "            temp.append(color)\n",
    "        background.append(temp)\n",
    "\n",
    "    background = np.array(background).astype(np.uint8)\n",
    "    return background"
   ]
  },
  {
   "cell_type": "code",
   "execution_count": null,
   "metadata": {},
   "outputs": [],
   "source": [
    "def start_video_with_tone(tone, opacity):\n",
    "    tones = {\n",
    "    \"warmth\" : [108, 222, 249],\n",
    "    \"cool\" : [247,206,139]\n",
    "    }\n",
    "\n",
    "    background = create_background(tones[tone])\n",
    "\n",
    "    cam = cv.VideoCapture(0)\n",
    "\n",
    "    while True:\n",
    "        _,img = cam.read()\n",
    "        img = cv.flip(img, 1)\n",
    "\n",
    "        # adjust tone\n",
    "        processed = cv.addWeighted(img, 1-opacity, background, opacity, 0)\n",
    "        processed = np.array(processed).astype(np.uint8)\n",
    "\n",
    "        #display\n",
    "        cv.imshow(\"Original\",img)\n",
    "        cv.imshow(\"Processed\",processed)\n",
    "\n",
    "        #terminate\n",
    "        key = cv.waitKey(30)\n",
    "        if key == 27:\n",
    "            break\n",
    "    \n",
    "    cam.release()\n",
    "    cv.destroyAllWindows()"
   ]
  },
  {
   "cell_type": "code",
   "execution_count": null,
   "metadata": {},
   "outputs": [],
   "source": [
    "start_video_with_tone(\"warmth\",0.1)"
   ]
  },
  {
   "cell_type": "code",
   "execution_count": null,
   "metadata": {},
   "outputs": [],
   "source": [
    "start_video_with_tone(\"cool\",0.1)"
   ]
  },
  {
   "cell_type": "markdown",
   "metadata": {},
   "source": [
    "## Adjust warmth and cool tone in an image"
   ]
  },
  {
   "cell_type": "code",
   "execution_count": 3,
   "metadata": {},
   "outputs": [],
   "source": [
    "def add_tone(image, tone, opacity):\n",
    "    tones = {\n",
    "    \"warmth\" : [108, 222, 249],\n",
    "    \"cool\" : [247,206,139]\n",
    "    }\n",
    "\n",
    "    background = create_background(tones[tone],image.shape[0],image.shape[1])\n",
    "\n",
    "    image_2 = cv.addWeighted(image, 1 - opacity, background, opacity, 0)\n",
    "\n",
    "    return image_2"
   ]
  },
  {
   "cell_type": "code",
   "execution_count": 4,
   "metadata": {},
   "outputs": [
    {
     "data": {
      "text/plain": [
       "-1"
      ]
     },
     "execution_count": 4,
     "metadata": {},
     "output_type": "execute_result"
    }
   ],
   "source": [
    "image = cv.imread('IMG_20231017_114222.jpg')\n",
    "image = cv.resize(image, (640,480))\n",
    "warmth_image = add_tone(image,\"warmth\",0.2)\n",
    "cooler_image = add_tone(image,\"cool\",0.2)\n",
    "\n",
    "# display image\n",
    "cv.imshow(\"Original\",image)\n",
    "cv.imshow(\"Warmth image\",warmth_image)\n",
    "cv.imshow(\"Cooler image\",cooler_image)\n",
    "\n",
    "# save image\n",
    "cv.imwrite(\"Original_image.png\",image)\n",
    "cv.imwrite(\"Warmth_image.png\",warmth_image)\n",
    "cv.imwrite(\"Cooler_image.png\",cooler_image)\n",
    "\n",
    "# terminate\n",
    "cv.waitKey(0)"
   ]
  },
  {
   "cell_type": "markdown",
   "metadata": {},
   "source": [
    "# <font color='green'>In the same way we can also merge two images</font>"
   ]
  }
 ],
 "metadata": {
  "kernelspec": {
   "display_name": "Python 3",
   "language": "python",
   "name": "python3"
  },
  "language_info": {
   "codemirror_mode": {
    "name": "ipython",
    "version": 3
   },
   "file_extension": ".py",
   "mimetype": "text/x-python",
   "name": "python",
   "nbconvert_exporter": "python",
   "pygments_lexer": "ipython3",
   "version": "3.11.3"
  }
 },
 "nbformat": 4,
 "nbformat_minor": 2
}
