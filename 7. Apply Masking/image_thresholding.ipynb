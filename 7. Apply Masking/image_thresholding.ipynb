{
 "cells": [
  {
   "cell_type": "code",
   "execution_count": 1,
   "metadata": {},
   "outputs": [],
   "source": [
    "import cv2 as cv\n",
    "import numpy as np"
   ]
  },
  {
   "cell_type": "code",
   "execution_count": 3,
   "metadata": {},
   "outputs": [],
   "source": [
    "cam = cv.VideoCapture(0)\n",
    "id = 1\n",
    "\n",
    "while True:\n",
    "    _,img = cam.read()\n",
    "    img = cv.flip(img, 1)\n",
    "    img = cv.blur(img,(4,4))\n",
    "\n",
    "    # different images\n",
    "    gray = cv.cvtColor(img,cv.COLOR_BGR2GRAY)\n",
    "    gray_thre_1 = gray.copy()\n",
    "    gray_thre_2 = gray.copy()\n",
    "\n",
    "    # apply thresholding\n",
    "    gray_thre_1[gray_thre_1>100] = 255\n",
    "    gray_thre_2[gray_thre_2<100] = 0\n",
    "\n",
    "    # display images\n",
    "    cv.imshow(\"Frame\",img)\n",
    "    cv.imshow(\"Gray\",gray)\n",
    "    cv.imshow(\"Threshold 1\",gray_thre_1)\n",
    "    cv.imshow(\"Threshold 2\",gray_thre_2)\n",
    "\n",
    "    if cv.waitKey(10) == 13:\n",
    "        cv.imwrite(f\"threshold_image_{str(id)}.png\",gray_thre_1)\n",
    "        id+=1\n",
    "        cv.imwrite(f\"threshold_image_{str(id)}.png\",gray_thre_2)\n",
    "        id+=1\n",
    "\n",
    "    if cv.waitKey(10) == 27:\n",
    "        cam.release()\n",
    "        cv.destroyAllWindows()\n",
    "        break"
   ]
  }
 ],
 "metadata": {
  "kernelspec": {
   "display_name": "Python 3",
   "language": "python",
   "name": "python3"
  },
  "language_info": {
   "codemirror_mode": {
    "name": "ipython",
    "version": 3
   },
   "file_extension": ".py",
   "mimetype": "text/x-python",
   "name": "python",
   "nbconvert_exporter": "python",
   "pygments_lexer": "ipython3",
   "version": "3.11.3"
  }
 },
 "nbformat": 4,
 "nbformat_minor": 2
}
