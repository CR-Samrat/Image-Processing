{
 "cells": [
  {
   "cell_type": "code",
   "execution_count": 7,
   "metadata": {},
   "outputs": [],
   "source": [
    "import cv2 as cv\n",
    "import numpy as np"
   ]
  },
  {
   "cell_type": "code",
   "execution_count": 14,
   "metadata": {},
   "outputs": [],
   "source": [
    "dark_mask_lower = np.array([0,0,0])\n",
    "dark_mask_upper = np.array([40,40,40])"
   ]
  },
  {
   "cell_type": "code",
   "execution_count": 25,
   "metadata": {},
   "outputs": [],
   "source": [
    "light_mask_lower = np.array([51,51,51])\n",
    "light_mask_upper = np.array([255,255,255])"
   ]
  },
  {
   "cell_type": "code",
   "execution_count": 45,
   "metadata": {},
   "outputs": [
    {
     "data": {
      "text/plain": [
       "array([[[0, 0, 0],\n",
       "        [0, 0, 0],\n",
       "        [0, 0, 0],\n",
       "        ...,\n",
       "        [0, 0, 0],\n",
       "        [0, 0, 0],\n",
       "        [0, 0, 0]],\n",
       "\n",
       "       [[0, 0, 0],\n",
       "        [0, 0, 0],\n",
       "        [0, 0, 0],\n",
       "        ...,\n",
       "        [0, 0, 0],\n",
       "        [0, 0, 0],\n",
       "        [0, 0, 0]],\n",
       "\n",
       "       [[0, 0, 0],\n",
       "        [0, 0, 0],\n",
       "        [0, 0, 0],\n",
       "        ...,\n",
       "        [0, 0, 0],\n",
       "        [0, 0, 0],\n",
       "        [0, 0, 0]],\n",
       "\n",
       "       ...,\n",
       "\n",
       "       [[0, 0, 0],\n",
       "        [0, 0, 0],\n",
       "        [0, 0, 0],\n",
       "        ...,\n",
       "        [0, 0, 0],\n",
       "        [0, 0, 0],\n",
       "        [0, 0, 0]],\n",
       "\n",
       "       [[0, 0, 0],\n",
       "        [0, 0, 0],\n",
       "        [0, 0, 0],\n",
       "        ...,\n",
       "        [0, 0, 0],\n",
       "        [0, 0, 0],\n",
       "        [0, 0, 0]],\n",
       "\n",
       "       [[0, 0, 0],\n",
       "        [0, 0, 0],\n",
       "        [0, 0, 0],\n",
       "        ...,\n",
       "        [0, 0, 0],\n",
       "        [0, 0, 0],\n",
       "        [0, 0, 0]]], dtype=uint8)"
      ]
     },
     "execution_count": 45,
     "metadata": {},
     "output_type": "execute_result"
    }
   ],
   "source": [
    "circle_mask = np.zeros((480,640,3), dtype=np.uint8)\n",
    "cv.circle(circle_mask, (320, 240),120,(255,255,255),thickness=cv.FILLED)"
   ]
  },
  {
   "cell_type": "code",
   "execution_count": 42,
   "metadata": {},
   "outputs": [
    {
     "data": {
      "text/plain": [
       "-1"
      ]
     },
     "execution_count": 42,
     "metadata": {},
     "output_type": "execute_result"
    }
   ],
   "source": [
    "cv.imshow(\"Circle\",circle_mask)\n",
    "cv.waitKey(0)"
   ]
  },
  {
   "cell_type": "code",
   "execution_count": 59,
   "metadata": {},
   "outputs": [],
   "source": [
    "cam = cv.VideoCapture(0)\n",
    "id = 1\n",
    "\n",
    "while True:\n",
    "    _,img = cam.read()\n",
    "    img = cv.flip(img,1)\n",
    "\n",
    "    # different masks\n",
    "    mask_dark = cv.blur(img,(4,4))\n",
    "    mask_dark = cv.inRange(img,dark_mask_lower,dark_mask_upper)\n",
    "    mask_light = cv.blur(img,(4,4))\n",
    "    mask_light = cv.inRange(img,light_mask_lower,light_mask_upper)\n",
    "    mask_circle = cv.bitwise_and(img, circle_mask)\n",
    "    mask_circle = cv.putText(mask_circle,\"Subhadeep Sarkar\",(100,400),fontFace=cv.FONT_HERSHEY_COMPLEX_SMALL, fontScale=2, color=(123,43,211))\n",
    "\n",
    "    # display image\n",
    "    cv.imshow(\"Frame\",img)\n",
    "    cv.imshow(\"Mask-1\",mask_dark)\n",
    "    cv.imshow(\"Mask-2\",mask_light)\n",
    "    cv.imshow(\"Mask-3\",mask_circle)\n",
    "\n",
    "    # image capture\n",
    "    if cv.waitKey(10) == 13:\n",
    "        cv.imwrite(f\"masked_image_{str(id)}.png\",mask_dark)\n",
    "        id+=1\n",
    "        cv.imwrite(f\"masked_image_{str(id)}.png\",mask_light)\n",
    "        id+=1\n",
    "        cv.imwrite(f\"masked_image_{str(id)}.png\",mask_circle)\n",
    "        id+=1\n",
    "\n",
    "    # terminate\n",
    "    if cv.waitKey(10) == 27:\n",
    "        cam.release()\n",
    "        cv.destroyAllWindows()\n",
    "        break"
   ]
  }
 ],
 "metadata": {
  "kernelspec": {
   "display_name": "Python 3",
   "language": "python",
   "name": "python3"
  },
  "language_info": {
   "codemirror_mode": {
    "name": "ipython",
    "version": 3
   },
   "file_extension": ".py",
   "mimetype": "text/x-python",
   "name": "python",
   "nbconvert_exporter": "python",
   "pygments_lexer": "ipython3",
   "version": "3.11.3"
  }
 },
 "nbformat": 4,
 "nbformat_minor": 2
}
